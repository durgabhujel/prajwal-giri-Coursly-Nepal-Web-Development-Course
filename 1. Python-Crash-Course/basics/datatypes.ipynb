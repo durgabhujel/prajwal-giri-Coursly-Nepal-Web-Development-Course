{
 "cells": [
  {
   "cell_type": "markdown",
   "metadata": {},
   "source": [
    "# Variable datatype in Python:\n",
    "## Following are the standard or built-in data type of Python:\n",
    "\n",
    "## Numeric (int, float, complex)\n",
    "## Sequence Type (list, tuple, string)\n",
    "## Boolean\n",
    "## Set\n",
    "## Dictionary"
   ]
  },
  {
   "cell_type": "code",
   "execution_count": 1,
   "metadata": {},
   "outputs": [
    {
     "name": "stdout",
     "output_type": "stream",
     "text": [
      "the value of a is:  5\n",
      "the value of b is:  5.0\n"
     ]
    }
   ],
   "source": [
    "#numeric data types\n",
    "#int\n",
    "#float\n",
    "#complex\n",
    "\n",
    "a = 5\n",
    "#print(\"Type of a: \", type(a))\n",
    "print(\"the value of a is: \", a)\n",
    "b = 5.0\n",
    "#print(\"\\nType of b: \", type(b))\n",
    "print(\"the value of b is: \", b)\n",
    "c = 2 + 4j\n",
    "# print(\"\\nType of c: \", type(c))"
   ]
  },
  {
   "cell_type": "code",
   "execution_count": 2,
   "metadata": {},
   "outputs": [
    {
     "name": "stdout",
     "output_type": "stream",
     "text": [
      "hello\n",
      "5\n"
     ]
    }
   ],
   "source": [
    "string = \"hello\"\n",
    "number_5 = 5\n",
    "print(string)\n",
    "print(number_5)"
   ]
  },
  {
   "cell_type": "code",
   "execution_count": 3,
   "metadata": {},
   "outputs": [
    {
     "name": "stdout",
     "output_type": "stream",
     "text": [
      "python\n",
      "python\n",
      "python\n",
      "python\n"
     ]
    }
   ],
   "source": [
    "#sequence data types\n",
    "#list\n",
    "#tuple\n",
    "#string\n",
    "a = 5\n",
    "b = '5'\n",
    "c = \"$5\"\n",
    "#creating a string\n",
    "s = 'python'\n",
    "s1 = \"python\"\n",
    "s2 = '''python'''\n",
    "s3 = \"\"\"python\"\"\"\n",
    "print(s)\n",
    "print(s1)\n",
    "print(s2)\n",
    "print(s3)"
   ]
  },
  {
   "cell_type": "code",
   "execution_count": 4,
   "metadata": {},
   "outputs": [
    {
     "name": "stdout",
     "output_type": "stream",
     "text": [
      "p\n",
      "h\n",
      "n\n",
      "n\n",
      "p\n"
     ]
    }
   ],
   "source": [
    "#Accessing elements of String\n",
    "s = \"python\"\n",
    "r = s[0]\n",
    "print(r)  #> p\n",
    "print(s[3])  #> n\n",
    "print(s[5])  #> n\n",
    "\n",
    "print(s[-1])\n",
    "print(s[-6])"
   ]
  },
  {
   "cell_type": "code",
   "execution_count": 6,
   "metadata": {},
   "outputs": [
    {
     "ename": "TypeError",
     "evalue": "'str' object does not support item assignment",
     "output_type": "error",
     "traceback": [
      "\u001b[0;31m---------------------------------------------------------------------------\u001b[0m",
      "\u001b[0;31mTypeError\u001b[0m                                 Traceback (most recent call last)",
      "Input \u001b[0;32mIn [6]\u001b[0m, in \u001b[0;36m<module>\u001b[0;34m\u001b[0m\n\u001b[1;32m      1\u001b[0m s \u001b[38;5;241m=\u001b[39m \u001b[38;5;124m\"\u001b[39m\u001b[38;5;124mpython\u001b[39m\u001b[38;5;124m\"\u001b[39m\n\u001b[0;32m----> 2\u001b[0m s[\u001b[38;5;241m4\u001b[39m] \u001b[38;5;241m=\u001b[39m \u001b[38;5;124m'\u001b[39m\u001b[38;5;124mp\u001b[39m\u001b[38;5;124m'\u001b[39m\n\u001b[1;32m      3\u001b[0m \u001b[38;5;28mprint\u001b[39m(s[\u001b[38;5;241m4\u001b[39m])\n",
      "\u001b[0;31mTypeError\u001b[0m: 'str' object does not support item assignment"
     ]
    }
   ],
   "source": [
    "s = \"python\"\n",
    "s[4] = 'p'\n",
    "print(s[4])"
   ]
  },
  {
   "cell_type": "code",
   "execution_count": 7,
   "metadata": {},
   "outputs": [
    {
     "name": "stdout",
     "output_type": "stream",
     "text": [
      "Python\n"
     ]
    }
   ],
   "source": [
    "s = \"python\"\n",
    "s = \"Python\"\n",
    "print(s)"
   ]
  },
  {
   "cell_type": "code",
   "execution_count": 8,
   "metadata": {},
   "outputs": [
    {
     "name": "stdout",
     "output_type": "stream",
     "text": [
      "<class 'int'>\n",
      "<class 'str'>\n"
     ]
    }
   ],
   "source": [
    "a = 12345\n",
    "print(type(a))\n",
    "\n",
    "result = str(a)\n",
    "print(type(result))"
   ]
  },
  {
   "cell_type": "code",
   "execution_count": 9,
   "metadata": {},
   "outputs": [
    {
     "name": "stdout",
     "output_type": "stream",
     "text": [
      "[1, 2, 3, 4, 5, 'a', 'b', 'c']\n",
      "1\n",
      "c\n",
      "<class 'list'>\n"
     ]
    }
   ],
   "source": [
    "#list\n",
    "l = [1,2,3,4,5,\"a\",\"b\",\"c\"]\n",
    "print(l)\n",
    "print(l[0])\n",
    "print(l[-1])\n",
    "print(type(l))"
   ]
  },
  {
   "cell_type": "code",
   "execution_count": 10,
   "metadata": {},
   "outputs": [
    {
     "name": "stdout",
     "output_type": "stream",
     "text": [
      "[1, 2, 3, 3]\n",
      "[1, 5, 3, 3]\n"
     ]
    }
   ],
   "source": [
    "l = [1,2,3,3]\n",
    "print(l)\n",
    "l[1] = 5\n",
    "print(l)"
   ]
  },
  {
   "cell_type": "code",
   "execution_count": 11,
   "metadata": {},
   "outputs": [
    {
     "name": "stdout",
     "output_type": "stream",
     "text": [
      "['p', 'y', 't', 'h', 'o', 'n']\n",
      "<class 'list'>\n",
      "['P', 'y', 't', 'h', 'o', 'n']\n",
      "<class 'list'>\n"
     ]
    }
   ],
   "source": [
    "s = \"python\"\n",
    "#s[0] = 'P'\n",
    "r = list(s)\n",
    "print(r)\n",
    "print(type(r)) \n",
    "\n",
    "r[0] = 'P'\n",
    "print(r)\n",
    "print(type(r))"
   ]
  },
  {
   "cell_type": "code",
   "execution_count": 12,
   "metadata": {},
   "outputs": [
    {
     "name": "stdout",
     "output_type": "stream",
     "text": [
      "(1, 2, 3, 4, 5, 'python')\n",
      "1\n",
      "python\n",
      "<class 'tuple'>\n"
     ]
    }
   ],
   "source": [
    "#tuple\n",
    "t = (1,2,3,4,5,'python')\n",
    "print(t)\n",
    "print(t[0])\n",
    "print(t[-1])\n",
    "print(type(t))"
   ]
  },
  {
   "cell_type": "code",
   "execution_count": 13,
   "metadata": {},
   "outputs": [
    {
     "name": "stdout",
     "output_type": "stream",
     "text": [
      "True\n",
      "False\n",
      "<class 'bool'>\n",
      "<class 'bool'>\n"
     ]
    }
   ],
   "source": [
    "#Boolean => true or false\n",
    "a = True\n",
    "b = False\n",
    "print(a)\n",
    "print(b)\n",
    "print(type(a))\n",
    "print(type(b))"
   ]
  },
  {
   "cell_type": "code",
   "execution_count": 14,
   "metadata": {},
   "outputs": [
    {
     "name": "stdout",
     "output_type": "stream",
     "text": [
      "{1, 2, 3, 4, 5}\n",
      "<class 'set'>\n"
     ]
    }
   ],
   "source": [
    "#set\n",
    "s = {1,2,3,4,5,5}\n",
    "print(s)\n",
    "print(type(s))\n",
    "\n",
    "#print(s[0])\n",
    "\n",
    "# for i in s:\n",
    "#     print(i)"
   ]
  },
  {
   "cell_type": "code",
   "execution_count": 15,
   "metadata": {},
   "outputs": [
    {
     "name": "stdout",
     "output_type": "stream",
     "text": [
      "{'y', 't', 'h', 'o', 'n', 'p'}\n",
      "<class 'set'>\n"
     ]
    }
   ],
   "source": [
    "s = 'python'\n",
    "r = set(s)\n",
    "print(r)\n",
    "print(type(r))"
   ]
  },
  {
   "cell_type": "code",
   "execution_count": 16,
   "metadata": {},
   "outputs": [
    {
     "name": "stdout",
     "output_type": "stream",
     "text": [
      "{'a': 1, 'b': 2, 'c': 3}\n",
      "1\n",
      "2\n",
      "3\n",
      "<class 'dict'>\n"
     ]
    }
   ],
   "source": [
    "\n",
    "#dictionary\n",
    "d = {'a':1,'b':2,'c':3}\n",
    "print(d)\n",
    "print(d['a'])\n",
    "print(d['b'])\n",
    "print(d['c'])\n",
    "print(type(d))"
   ]
  },
  {
   "cell_type": "code",
   "execution_count": 17,
   "metadata": {},
   "outputs": [
    {
     "name": "stdout",
     "output_type": "stream",
     "text": [
      "{'a': 5, 'b': 2, 'c': 3}\n",
      "<class 'dict'>\n"
     ]
    }
   ],
   "source": [
    "d = {'a':5,'b':2,'c':3}\n",
    "print(d)\n",
    "print(type(d))"
   ]
  },
  {
   "cell_type": "code",
   "execution_count": 18,
   "metadata": {},
   "outputs": [
    {
     "name": "stdout",
     "output_type": "stream",
     "text": [
      "{'name': 'john', 'age': 20, 'marks': [10, 20, 30]}\n",
      "[10, 20, 30]\n",
      "20\n"
     ]
    }
   ],
   "source": [
    "students = {\n",
    "    'name':'john',\n",
    "    'age':20,\n",
    "    'marks':[10,20,30]\n",
    "}\n",
    "print(students)\n",
    "\n",
    "print(students['marks'])\n",
    "print(students.get('age'))"
   ]
  },
  {
   "cell_type": "code",
   "execution_count": 19,
   "metadata": {},
   "outputs": [
    {
     "name": "stdout",
     "output_type": "stream",
     "text": [
      "hello\n",
      "The value of a is:  hello\n",
      "The value of a is: world and value of b is world\n",
      "The value of a is hello\n"
     ]
    }
   ],
   "source": [
    "a = \"hello\"\n",
    "b = \"world\"\n",
    "print(a)\n",
    "print(\"The value of a is: \", a)\n",
    "print(\"The value of a is: {1} and value of b is {1}\".format(a,b))\n",
    "print(f\"The value of a is {a}\")"
   ]
  },
  {
   "cell_type": "code",
   "execution_count": null,
   "metadata": {},
   "outputs": [],
   "source": []
  }
 ],
 "metadata": {
  "interpreter": {
   "hash": "916dbcbb3f70747c44a77c7bcd40155683ae19c65e1c03b4aa3499c5328201f1"
  },
  "kernelspec": {
   "display_name": "Python 3.9.7 64-bit",
   "language": "python",
   "name": "python3"
  },
  "language_info": {
   "codemirror_mode": {
    "name": "ipython",
    "version": 3
   },
   "file_extension": ".py",
   "mimetype": "text/x-python",
   "name": "python",
   "nbconvert_exporter": "python",
   "pygments_lexer": "ipython3",
   "version": "3.9.7"
  },
  "orig_nbformat": 4
 },
 "nbformat": 4,
 "nbformat_minor": 2
}
