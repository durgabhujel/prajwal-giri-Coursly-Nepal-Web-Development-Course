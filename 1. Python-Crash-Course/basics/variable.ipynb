{
 "cells": [
  {
   "cell_type": "markdown",
   "metadata": {},
   "source": [
    "# Variables\n",
    "A variable is a named location used to store data in the memory. or we can even say that a variable is a container for data/value.\n",
    "\n",
    "# Rules for creating variables in Python:\n",
    "        A variable name must start with a letter or the underscore character.\n",
    "        A variable name cannot start with a number.\n",
    "        A variable name can only contain alpha-numeric characters and underscores (A-z, 0-9, and _ ).\n",
    "        Variable names are case-sensitive (name, Name and NAME are three different variables).\n",
    "        The reserved words(keywords) cannot be used naming the variable."
   ]
  },
  {
   "cell_type": "code",
   "execution_count": null,
   "metadata": {},
   "outputs": [],
   "source": [
    "# An integer assignment\n",
    "age = 45  #variable declaration\n",
    "  \n",
    "# A floating point\n",
    "salary_1456 = 1456.8\n",
    "\n",
    "# A string\n",
    "_name = \"John\"\n",
    "  \n",
    "print(age)\n",
    "print(salary_1456)\n",
    "print(_name)"
   ]
  },
  {
   "cell_type": "code",
   "execution_count": 1,
   "metadata": {},
   "outputs": [
    {
     "name": "stdout",
     "output_type": "stream",
     "text": [
      "23\n",
      "1234.5\n",
      "Mark\n"
     ]
    }
   ],
   "source": [
    "# redeclaring the var\n",
    "age = 45\n",
    "age = 23\n",
    "\n",
    "salary = 1234.5\n",
    "\n",
    "name = \"Mark\"\n",
    " \n",
    "# display\n",
    "print(age)\n",
    "print(salary)\n",
    "print(name)"
   ]
  },
  {
   "cell_type": "code",
   "execution_count": 2,
   "metadata": {},
   "outputs": [
    {
     "name": "stdout",
     "output_type": "stream",
     "text": [
      "10\n",
      "10\n",
      "10\n"
     ]
    }
   ],
   "source": [
    "#Assigning a single value to multiple variables: \n",
    "a = b = c = 10\n",
    "# a = 10\n",
    "# b = 10\n",
    "# c = 10\n",
    "  \n",
    "print(a)\n",
    "print(b)\n",
    "print(c)"
   ]
  },
  {
   "cell_type": "code",
   "execution_count": 3,
   "metadata": {},
   "outputs": [
    {
     "name": "stdout",
     "output_type": "stream",
     "text": [
      "1\n",
      "20.2\n",
      "Python\n"
     ]
    }
   ],
   "source": [
    "#Assigning different values to multiple variables: \n",
    "a, b, c = 1, 20.2, 'Python'\n",
    "# a = 1\n",
    "# b = 20.2\n",
    "# c = \"Python\"\n",
    "print(a)\n",
    "print(b)\n",
    "print(c)"
   ]
  },
  {
   "cell_type": "code",
   "execution_count": 4,
   "metadata": {},
   "outputs": [
    {
     "name": "stdout",
     "output_type": "stream",
     "text": [
      "Python\n"
     ]
    }
   ],
   "source": [
    "#Can we use the same name for different types? \n",
    "a = 10\n",
    "a = \"Python\"\n",
    "print(a)"
   ]
  },
  {
   "cell_type": "code",
   "execution_count": 5,
   "metadata": {},
   "outputs": [
    {
     "name": "stdout",
     "output_type": "stream",
     "text": [
      "30\n",
      "ManojKhadka\n"
     ]
    }
   ],
   "source": [
    "#How does + operator work with variables? \n",
    "a = 10  # integer\n",
    "b = 20  # integer\n",
    "print(a+b)  #=> 30\n",
    "  \n",
    "a = \"Manoj\"\n",
    "b = \"Khadka\"\n",
    "print(a+b)"
   ]
  },
  {
   "cell_type": "code",
   "execution_count": 6,
   "metadata": {},
   "outputs": [
    {
     "name": "stdout",
     "output_type": "stream",
     "text": [
      "105\n"
     ]
    }
   ],
   "source": [
    "#Can we use + for different types also? \n",
    "a = \"10\" \n",
    "b = \"5\"\n",
    "print(a+b)"
   ]
  }
 ],
 "metadata": {
  "interpreter": {
   "hash": "916dbcbb3f70747c44a77c7bcd40155683ae19c65e1c03b4aa3499c5328201f1"
  },
  "kernelspec": {
   "display_name": "Python 3.9.7 64-bit",
   "language": "python",
   "name": "python3"
  },
  "language_info": {
   "codemirror_mode": {
    "name": "ipython",
    "version": 3
   },
   "file_extension": ".py",
   "mimetype": "text/x-python",
   "name": "python",
   "nbconvert_exporter": "python",
   "pygments_lexer": "ipython3",
   "version": "3.9.7"
  },
  "orig_nbformat": 4
 },
 "nbformat": 4,
 "nbformat_minor": 2
}
