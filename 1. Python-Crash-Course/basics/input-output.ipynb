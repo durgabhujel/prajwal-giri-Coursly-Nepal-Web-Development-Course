{
 "cells": [
  {
   "cell_type": "code",
   "execution_count": null,
   "metadata": {},
   "outputs": [],
   "source": [
    "    # we use input() to get user input\n",
    "    # we use print() to print to the screen"
   ]
  },
  {
   "cell_type": "code",
   "execution_count": 1,
   "metadata": {},
   "outputs": [
    {
     "name": "stdout",
     "output_type": "stream",
     "text": [
      "Hello, \n",
      "<class 'str'>\n"
     ]
    }
   ],
   "source": [
    "\n",
    "#Python get user input with a message\n",
    "# Taking input from the user\n",
    "name = input(\"Enter your name: \")\n",
    " \n",
    "# Output\n",
    "print(\"Hello, \" + name)\n",
    "result = type(name)\n",
    "print(result)\n"
   ]
  },
  {
   "cell_type": "code",
   "execution_count": 4,
   "metadata": {},
   "outputs": [],
   "source": [
    "# input() #calling input() function\n",
    "# print() \n",
    "# type()"
   ]
  },
  {
   "cell_type": "code",
   "execution_count": 5,
   "metadata": {},
   "outputs": [
    {
     "name": "stdout",
     "output_type": "stream",
     "text": [
      "<class 'int'>\n",
      "<class 'float'>\n",
      "<class 'str'>\n"
     ]
    }
   ],
   "source": [
    "a = 5\n",
    "b = 5.4\n",
    "c = \"Hello\"\n",
    "print(type(a))\n",
    "print(type(b))\n",
    "print(type(c))"
   ]
  },
  {
   "cell_type": "code",
   "execution_count": 6,
   "metadata": {},
   "outputs": [
    {
     "name": "stdout",
     "output_type": "stream",
     "text": [
      "3\n"
     ]
    }
   ],
   "source": [
    "#Integer input in Python \n",
    "# Taking input from the user as integer\n",
    "num = int(input(\"Enter a number: \"))\n",
    "# n = int(num)\n",
    "#add = n + 1\n",
    "add = num + 1\n",
    "# Output\n",
    "print(add)"
   ]
  },
  {
   "cell_type": "code",
   "execution_count": 7,
   "metadata": {},
   "outputs": [
    {
     "name": "stdout",
     "output_type": "stream",
     "text": [
      "Python\n",
      "P y t h o n\n",
      "Python\n",
      "5 10\n"
     ]
    }
   ],
   "source": [
    "#Python Print Output\n",
    "# print() method\n",
    "print(\"Python\")\n",
    " \n",
    "# code for disabling the softspace feature \n",
    "print('P','y','t','h','o','n')\n",
    "\n",
    "s = \"Python\"\n",
    "print(s)\n",
    "\n",
    "a = 5\n",
    "b = 10\n",
    "print(a,b)"
   ]
  },
  {
   "cell_type": "code",
   "execution_count": 8,
   "metadata": {},
   "outputs": [
    {
     "name": "stdout",
     "output_type": "stream",
     "text": [
      "Python$\n",
      "P,y,t,h,o,n@"
     ]
    }
   ],
   "source": [
    "#Python Print output with custom sep and end parameter\n",
    "s = \"Python\"\n",
    "print(s,end=\"$\")\n",
    "print()  #prints a new line\n",
    "print('P','y','t','h','o','n' ,sep=\",\",end=\"@\")"
   ]
  },
  {
   "cell_type": "code",
   "execution_count": 9,
   "metadata": {},
   "outputs": [],
   "source": [
    "# Formatting Output\n",
    "# format() => string.format()\n",
    "# f-strings => string interpolation\n"
   ]
  },
  {
   "cell_type": "code",
   "execution_count": 10,
   "metadata": {},
   "outputs": [
    {
     "name": "stdout",
     "output_type": "stream",
     "text": [
      "Hello World\n",
      "Hello anything World\n",
      "The value of a is Hello and The value of b is World\n"
     ]
    }
   ],
   "source": [
    "#Python String formatting using F string and format()\n",
    "a = \"Hello\"\n",
    "b = \"World\"\n",
    "\n",
    "print(a,b)\n",
    "\n",
    "print('{} anything {}'.format(a,b))\n",
    "\n",
    "print(f\"The value of a is {a} and The value of b is {b}\")"
   ]
  },
  {
   "cell_type": "code",
   "execution_count": 11,
   "metadata": {},
   "outputs": [
    {
     "name": "stdout",
     "output_type": "stream",
     "text": [
      "The value of a is 1 and b is 2\n",
      "The value of a is 1 and b is 2\n"
     ]
    }
   ],
   "source": [
    "a = 1\n",
    "b = 2\n",
    "print('The value of a is {0} and b is {1}'.format(a,b))\n",
    "print(f'The value of a is {a} and b is {b}')"
   ]
  }
 ],
 "metadata": {
  "interpreter": {
   "hash": "916dbcbb3f70747c44a77c7bcd40155683ae19c65e1c03b4aa3499c5328201f1"
  },
  "kernelspec": {
   "display_name": "Python 3.9.7 64-bit",
   "language": "python",
   "name": "python3"
  },
  "language_info": {
   "codemirror_mode": {
    "name": "ipython",
    "version": 3
   },
   "file_extension": ".py",
   "mimetype": "text/x-python",
   "name": "python",
   "nbconvert_exporter": "python",
   "pygments_lexer": "ipython3",
   "version": "3.9.7"
  },
  "orig_nbformat": 4
 },
 "nbformat": 4,
 "nbformat_minor": 2
}
